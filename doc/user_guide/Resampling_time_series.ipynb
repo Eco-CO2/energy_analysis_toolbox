{
 "cells": [
  {
   "cell_type": "markdown",
   "id": "a2a8e155-4915-4ed4-8135-29c8e1844536",
   "metadata": {},
   "source": [
    "# Resampling timeseries using `eat`"
   ]
  },
  {
   "cell_type": "markdown",
   "id": "3f70d1b9-ef95-455d-ade6-d8841cfb2136",
   "metadata": {},
   "source": [
    "In this tutorial, we demonstrate how `eat` can be used to easily resample timeseries.\n",
    "\n",
    "First of all, the lib as well as other thirst-party ones are imported."
   ]
  },
  {
   "cell_type": "code",
   "execution_count": 1,
   "id": "a75b028f-db64-42cf-8ca1-c1b24f22ca14",
   "metadata": {
    "execution": {
     "iopub.execute_input": "2023-05-04T09:40:02.175809Z",
     "iopub.status.busy": "2023-05-04T09:40:02.175303Z",
     "iopub.status.idle": "2023-05-04T09:40:03.340416Z",
     "shell.execute_reply": "2023-05-04T09:40:03.339174Z",
     "shell.execute_reply.started": "2023-05-04T09:40:02.175768Z"
    },
    "tags": []
   },
   "outputs": [
    {
     "ename": "ImportError",
     "evalue": "cannot import name 'energy' from partially initialized module 'energy_analysis_toolbox' (most likely due to a circular import) (/home/ubuntu/mambaforge/envs/daily/lib/python3.11/site-packages/energy_analysis_toolbox/__init__.py)",
     "output_type": "error",
     "traceback": [
      "\u001b[0;31m---------------------------------------------------------------------------\u001b[0m",
      "\u001b[0;31mImportError\u001b[0m                               Traceback (most recent call last)",
      "Cell \u001b[0;32mIn[1], line 9\u001b[0m\n\u001b[1;32m      6\u001b[0m mpl\u001b[38;5;241m.\u001b[39mrcParams[\u001b[38;5;124m'\u001b[39m\u001b[38;5;124maxes.grid\u001b[39m\u001b[38;5;124m'\u001b[39m] \u001b[38;5;241m=\u001b[39m \u001b[38;5;28;01mTrue\u001b[39;00m\n\u001b[1;32m      7\u001b[0m pd\u001b[38;5;241m.\u001b[39mset_option(\u001b[38;5;124m'\u001b[39m\u001b[38;5;124mdisplay.max_rows\u001b[39m\u001b[38;5;124m'\u001b[39m, \u001b[38;5;241m10\u001b[39m)\n\u001b[0;32m----> 9\u001b[0m \u001b[38;5;28;01mimport\u001b[39;00m \u001b[38;5;21;01menergy_analysis_toolbox\u001b[39;00m \u001b[38;5;28;01mas\u001b[39;00m \u001b[38;5;21;01meat\u001b[39;00m\n\u001b[1;32m     10\u001b[0m \u001b[38;5;28;01mimport\u001b[39;00m \u001b[38;5;21;01menergy_analysis_toolbox\u001b[39;00m\u001b[38;5;21;01m.\u001b[39;00m\u001b[38;5;21;01mpandas\u001b[39;00m\n\u001b[1;32m     11\u001b[0m eat\u001b[38;5;241m.\u001b[39m__version__\n",
      "File \u001b[0;32m~/mambaforge/envs/daily/lib/python3.11/site-packages/energy_analysis_toolbox/__init__.py:1\u001b[0m\n\u001b[0;32m----> 1\u001b[0m \u001b[38;5;28;01mfrom\u001b[39;00m \u001b[38;5;21;01m.\u001b[39;00m \u001b[38;5;28;01mimport\u001b[39;00m (\n\u001b[1;32m      2\u001b[0m     constants,\n\u001b[1;32m      3\u001b[0m     energy,\n\u001b[1;32m      4\u001b[0m     errors,\n\u001b[1;32m      5\u001b[0m     keywords,\n\u001b[1;32m      6\u001b[0m     power,\n\u001b[1;32m      7\u001b[0m     synthetic,\n\u001b[1;32m      8\u001b[0m     tests,\n\u001b[1;32m      9\u001b[0m     thermosensitivity,\n\u001b[1;32m     10\u001b[0m     timeseries,\n\u001b[1;32m     11\u001b[0m )\n\u001b[1;32m     13\u001b[0m __version__ \u001b[38;5;241m=\u001b[39m \u001b[38;5;124m\"\u001b[39m\u001b[38;5;124m0.0.1\u001b[39m\u001b[38;5;124m\"\u001b[39m\n",
      "\u001b[0;31mImportError\u001b[0m: cannot import name 'energy' from partially initialized module 'energy_analysis_toolbox' (most likely due to a circular import) (/home/ubuntu/mambaforge/envs/daily/lib/python3.11/site-packages/energy_analysis_toolbox/__init__.py)"
     ]
    }
   ],
   "source": [
    "import numpy as np\n",
    "import pandas as pd\n",
    "import matplotlib.pyplot as plt\n",
    "import matplotlib as mpl\n",
    "mpl.rcParams['figure.figsize'] = (10, 6)\n",
    "mpl.rcParams['axes.grid'] = True\n",
    "pd.set_option('display.max_rows', 10)\n",
    "\n",
    "import energy_analysis_toolbox as eat\n",
    "import energy_analysis_toolbox.pandas\n",
    "eat.__version__"
   ]
  },
  {
   "cell_type": "markdown",
   "id": "c046f5bf-fbf8-498e-a444-e98ea9a399e7",
   "metadata": {},
   "source": [
    "## Resampling power data"
   ]
  },
  {
   "cell_type": "markdown",
   "id": "49a53596-2474-4f84-b16d-a11d07004a74",
   "metadata": {},
   "source": [
    "First, this section shows how power data can be resampled. This is a very important operation as power data conveys information about the energy used on a certain site.\n",
    "\n",
    "In general, power data is represented as a timeseries where each row contains the average power on the interval starting at the row index and lasting until the next row.\n",
    "Accordingly, in order to avoid breaking energy conservation, between the source and the target data, the power should be resampled cautiously.\n",
    "The method in `eat` ensures that for each interval in the resampled data, the energy contained is the same as which that was contained on the same interval according to the initial sampling.\n",
    "\n",
    "This section illustrates how easily the resampling can be done using `eat`: users do not have to bother about the right way of ensuring energy conservation as this is directly handled by the provided functionality. "
   ]
  },
  {
   "cell_type": "markdown",
   "id": "c21f8918-bf85-4629-b21e-773e22e01f42",
   "metadata": {},
   "source": [
    "### Example data\n",
    "In this example, the time series is randomly generated."
   ]
  },
  {
   "cell_type": "code",
   "execution_count": null,
   "id": "5d258e91-8254-4d17-88e7-6d10344c137a",
   "metadata": {
    "execution": {
     "iopub.execute_input": "2023-05-04T09:40:03.393350Z",
     "iopub.status.busy": "2023-05-04T09:40:03.392951Z",
     "iopub.status.idle": "2023-05-04T09:40:03.508336Z",
     "shell.execute_reply": "2023-05-04T09:40:03.506834Z",
     "shell.execute_reply.started": "2023-05-04T09:40:03.393306Z"
    },
    "tags": []
   },
   "outputs": [],
   "source": [
    "sample_power = pd.DataFrame(\n",
    "    {\"power\": (np.random.randint(0, 5, 50)\n",
    "               + 5 * np.sin(np.linspace(0, 10, 50)) + 5\n",
    "               )\n",
    "     },\n",
    "    index=pd.date_range(\"2019-01-01 07:35:25\", periods=50, freq=\"5min\"),\n",
    ")\n",
    "sample_power.plot(drawstyle=\"steps-post\");"
   ]
  },
  {
   "cell_type": "markdown",
   "id": "a29cec2a-aa9e-4f23-ae33-b26aa9534ed3",
   "metadata": {},
   "source": [
    "### Upsampling\n",
    "\n",
    "The simplest case it to upsample the power data. It correspond a \"fill forward\", as the flow is considered to be constant over the period between two instants.\n",
    "\n"
   ]
  },
  {
   "cell_type": "code",
   "execution_count": 3,
   "metadata": {},
   "outputs": [],
   "source": [
    "sample_power_1min = eat.power.to_freq(sample_power[\"power\"], \"2.5min\")"
   ]
  },
  {
   "cell_type": "code",
   "execution_count": null,
   "metadata": {},
   "outputs": [],
   "source": [
    "ax = sample_power.plot(drawstyle=\"steps-post\", marker=\"o\")\n",
    "sample_power_1min.plot(drawstyle=\"steps-post\", ax=ax, marker=\".\", ls=\":\")\n",
    "ax.legend([\"5min\", \"1min\"]);"
   ]
  },
  {
   "cell_type": "code",
   "execution_count": null,
   "metadata": {},
   "outputs": [],
   "source": [
    "initial_total_energy = eat.power.to_energy(sample_power[\"power\"]).sum()\n",
    "resampled_total_energy = eat.power.to_energy(sample_power_1min).sum()\n",
    "print(f\"Initial total energy: {initial_total_energy:.2f} kWh\")\n",
    "print(f\"Resampled total energy: {resampled_total_energy:.2f} kWh\")\n",
    "print(f\"Ratio: {resampled_total_energy / initial_total_energy:.2%}\")"
   ]
  },
  {
   "cell_type": "markdown",
   "id": "323ea84b-a080-4910-aac4-a3d3973123a5",
   "metadata": {},
   "source": [
    "### Downsampling "
   ]
  },
  {
   "cell_type": "markdown",
   "id": "698b6dd9-40e4-4e1f-9b4d-dd6e24464e55",
   "metadata": {},
   "source": [
    "Using the same function, the power can be resampled to a coarser period, e.g. 30min.\n",
    "The obtained result is a time-averaged power during each 30min time-slot, as if the data came from an Enedis connector."
   ]
  },
  {
   "cell_type": "code",
   "execution_count": null,
   "id": "d9bde268-710f-42f8-9a6a-fda577f6ad9a",
   "metadata": {
    "execution": {
     "iopub.execute_input": "2023-05-04T09:40:04.083700Z",
     "iopub.status.busy": "2023-05-04T09:40:04.083294Z",
     "iopub.status.idle": "2023-05-04T09:40:04.214209Z",
     "shell.execute_reply": "2023-05-04T09:40:04.212725Z",
     "shell.execute_reply.started": "2023-05-04T09:40:04.083664Z"
    },
    "tags": []
   },
   "outputs": [],
   "source": [
    "sample_power_30min = eat.power.to_freq(sample_power[\"power\"], \"30min\")\n",
    "sample_power_30min"
   ]
  },
  {
   "cell_type": "code",
   "execution_count": null,
   "metadata": {},
   "outputs": [],
   "source": [
    "ax = sample_power.plot(drawstyle=\"steps-post\", marker=\"o\")\n",
    "sample_power_30min.plot(drawstyle=\"steps-post\", ax=ax, marker=\"o\")\n",
    "ax.legend([\"5min\", \"30min\"]);"
   ]
  },
  {
   "cell_type": "code",
   "execution_count": null,
   "metadata": {},
   "outputs": [],
   "source": [
    "resampled_total_energy = eat.power.to_energy(sample_power_30min).sum()\n",
    "print(f\"Initial total energy: {initial_total_energy:.2f} kWh\")\n",
    "print(f\"Resampled total energy: {resampled_total_energy:.2f} kWh\")\n",
    "print(f\"Ratio: {resampled_total_energy / initial_total_energy:.2%}\")"
   ]
  },
  {
   "cell_type": "markdown",
   "metadata": {},
   "source": [
    "### Changing the resampling default arguments\n",
    "\n",
    "This section shows how to change the default arguments\n",
    "\n",
    "#### Changing the Origin\n",
    "\n",
    "The first timestep of the initial series is a bit arbitrary.\n",
    "When resampling, it would make sens to have the new indexes aligned with the \"whole frequency\""
   ]
  },
  {
   "cell_type": "code",
   "execution_count": null,
   "metadata": {},
   "outputs": [],
   "source": [
    "sample_power.index[0]"
   ]
  },
  {
   "cell_type": "code",
   "execution_count": null,
   "metadata": {},
   "outputs": [],
   "source": [
    "default_origin = eat.power.to_freq(sample_power[\"power\"], \"30min\")\n",
    "ceil_origin = eat.power.to_freq(sample_power[\"power\"], \"30min\", origin=\"ceil\")\n",
    "floor_origin = eat.power.to_freq(sample_power[\"power\"], \"30min\", origin=\"floor\")\n",
    "ts_origin = eat.power.to_freq(sample_power[\"power\"], \"30min\", origin=sample_power.index[0] + pd.DateOffset(minute=25, second=0))\n",
    "\n",
    "print(f\"Default origin:   {default_origin.index[0]}\")\n",
    "print(f\"Ceil origin:      {ceil_origin.index[0]} (start to the previous whole timestamp)\" )\n",
    "print(f\"Floor origin:     {floor_origin.index[0]} (start to the next whole timestamp)\")\n",
    "print(f\"Timestamp origin: {ts_origin.index[0]} (start to any arbitrary timestamp)\")"
   ]
  },
  {
   "cell_type": "code",
   "execution_count": null,
   "metadata": {},
   "outputs": [],
   "source": [
    "sample_power.sum()"
   ]
  },
  {
   "cell_type": "code",
   "execution_count": null,
   "metadata": {},
   "outputs": [],
   "source": [
    "ax = sample_power.plot(\n",
    "    drawstyle=\"steps-post\",\n",
    "    marker=\"o\",\n",
    "    label=f\"initial, E={eat.power.to_energy(sample_power).sum()}\",\n",
    ")\n",
    "default_origin.plot(\n",
    "    drawstyle=\"steps-post\",\n",
    "    ax=ax,\n",
    "    marker=\"o\",\n",
    "    label=f\"default, E={eat.power.to_energy(default_origin).sum():.1e} kWh\",\n",
    ")\n",
    "ceil_origin.plot(\n",
    "    drawstyle=\"steps-post\",\n",
    "    ax=ax,\n",
    "    marker=\"o\",\n",
    "    label=f\"ceil, E={eat.power.to_energy(ceil_origin).sum():.1e} kWh\",\n",
    ")\n",
    "floor_origin.plot(\n",
    "    drawstyle=\"steps-post\",\n",
    "    ax=ax,\n",
    "    marker=\"o\",\n",
    "    label=f\"floor, E={eat.power.to_energy(floor_origin).sum():.1e} kWh\",\n",
    ")\n",
    "ts_origin.plot(\n",
    "    drawstyle=\"steps-post\",\n",
    "    ax=ax,\n",
    "    marker=\"o\",\n",
    "    label=f\"timestamp, E={eat.power.to_energy(ts_origin).sum():.1e} kWh\",\n",
    ")\n",
    "ax.legend();"
   ]
  },
  {
   "cell_type": "markdown",
   "metadata": {},
   "source": [
    "Depending of the relative position of the target first timestamp, and the initial first timestamp, the energy may not be conserved.\n",
    "\n",
    "#### Changing the last timestep duration\n",
    "\n",
    "By default, the last timestep duration is the same as the last timestep. \n",
    "\n",
    "In the scenarios where there is only one entry, or when the user wishes to change the last time duration, proceed as follow.\n"
   ]
  },
  {
   "cell_type": "code",
   "execution_count": 13,
   "metadata": {},
   "outputs": [],
   "source": [
    "resampled_power_series = eat.power.to_freq(sample_power[\"power\"], \"30min\", last_step_duration= pd.Timedelta(minutes=5).seconds)"
   ]
  },
  {
   "cell_type": "markdown",
   "id": "c0f9bd91-5f20-4e5f-b58d-df8d4edab6f1",
   "metadata": {},
   "source": [
    "### Conclusion about power resampling"
   ]
  },
  {
   "cell_type": "markdown",
   "id": "14f3a530-c907-4530-9c6c-8aaad4b54ec2",
   "metadata": {},
   "source": [
    "As demonstrated in this notebook, `eat.power` offers a versatile and efficient way of resampling power timeseries."
   ]
  },
  {
   "cell_type": "markdown",
   "id": "22290615-c9b3-4972-bf0d-efcfe88f9c7b",
   "metadata": {},
   "source": [
    "## Resampling Energy data\n",
    "\n",
    "Similarly, energy timeseries can be resampled using `eat.energy`."
   ]
  },
  {
   "cell_type": "code",
   "execution_count": 14,
   "metadata": {},
   "outputs": [],
   "source": [
    "sample_energy = eat.power.to_energy(sample_power[\"power\"])"
   ]
  },
  {
   "cell_type": "code",
   "execution_count": 15,
   "metadata": {},
   "outputs": [],
   "source": [
    "sample_energy_1min = eat.energy.to_freq(sample_energy, \"1min\")"
   ]
  },
  {
   "cell_type": "code",
   "execution_count": null,
   "metadata": {},
   "outputs": [],
   "source": [
    "ax = sample_energy.plot(drawstyle=\"steps-post\", marker=\"o\")\n",
    "sample_energy_1min.plot(drawstyle=\"steps-post\", ax=ax, marker=\"o\")\n",
    "ax.legend([\"5min\", \"1min\"]);"
   ]
  },
  {
   "cell_type": "code",
   "execution_count": null,
   "metadata": {},
   "outputs": [],
   "source": [
    "initial_total_energy = sample_energy.sum()\n",
    "resampled_total_energy = sample_energy_1min.sum()\n",
    "print(f\"Initial total energy: {initial_total_energy:.2f} kWh\")\n",
    "print(f\"Resampled total energy: {resampled_total_energy:.2f} kWh\")\n",
    "print(f\"Ratio: {resampled_total_energy / initial_total_energy:.2%}\")"
   ]
  },
  {
   "cell_type": "code",
   "execution_count": null,
   "metadata": {},
   "outputs": [],
   "source": [
    "sample_energy_30min = eat.energy.to_freq(sample_energy, \"30min\")\n",
    "\n",
    "ax = sample_energy.plot(drawstyle=\"steps-post\", marker=\"o\")\n",
    "sample_energy_30min.plot(drawstyle=\"steps-post\", ax=ax, marker=\"o\")\n",
    "ax.legend([\"5min\", \"30min\"])\n",
    "\n",
    "resampled_total_energy = sample_energy_30min.sum()\n",
    "print(f\"Initial total energy: {initial_total_energy:.2f} kWh\")\n",
    "print(f\"Resampled total energy: {resampled_total_energy:.2f} kWh\")\n",
    "print(f\"Ratio: {resampled_total_energy / initial_total_energy:.2%}\")"
   ]
  },
  {
   "cell_type": "markdown",
   "metadata": {},
   "source": [
    "### Conclusion about energy resampling\n",
    "As expected, the energy resampling preserve the energy between each indexes\n"
   ]
  },
  {
   "cell_type": "markdown",
   "id": "d88eb00f",
   "metadata": {},
   "source": [
    "## Resampling energy index data"
   ]
  },
  {
   "cell_type": "markdown",
   "id": "5da5d31c",
   "metadata": {},
   "source": [
    "An energy index is just a cumulated energy over time. \n",
    "\n",
    "While the energy as a timeseries is sampled as energy *over an interval*, the index is defined *at a certain time*.\n",
    "The energy is sampled such that the value given at time $t$ is the energy used during the interval *starting at $t$* and finishing at the next index.\n",
    "\n",
    "Accordingly, computing the index from the energy requires to shift the values one step ahead after the cumulated sum computation to obtain the value of the sum *at time t*."
   ]
  },
  {
   "cell_type": "code",
   "execution_count": null,
   "id": "9e09f404",
   "metadata": {},
   "outputs": [],
   "source": [
    "sample_energy"
   ]
  },
  {
   "cell_type": "code",
   "execution_count": null,
   "id": "83e8425c",
   "metadata": {},
   "outputs": [],
   "source": [
    "sample_index = sample_energy.cumsum().shift(1)\n",
    "sample_index.iloc[0] = 0\n",
    "sample_index"
   ]
  },
  {
   "cell_type": "markdown",
   "id": "6fd5f7f6",
   "metadata": {},
   "source": [
    "Assuming the timestep is constant, an additional index can be added using the last energy value :"
   ]
  },
  {
   "cell_type": "code",
   "execution_count": 21,
   "id": "722e044a",
   "metadata": {},
   "outputs": [],
   "source": [
    "timestep = eat.timeseries.resample.index_transformation.estimate_timestep(sample_index, method=\"mean\")"
   ]
  },
  {
   "cell_type": "code",
   "execution_count": null,
   "id": "781e314e",
   "metadata": {},
   "outputs": [],
   "source": [
    "sample_index[sample_energy.index[-1] + pd.Timedelta(seconds=timestep)] = sample_index.loc[sample_energy.index[-1]] + sample_energy.iloc[-1]\n",
    "sample_index"
   ]
  },
  {
   "cell_type": "markdown",
   "id": "4c59f5a4",
   "metadata": {},
   "source": [
    "So we've got our index! Now let resample it !\n",
    "\n",
    "Actually, resampling an index is quiet easy.\n",
    "As the values are defined *at a point* and not *on an interval*, any usual interpolation method could be used, provided that the assumptions are relevant.\n",
    "Most often, as no information is known about what happens during two index measures, the most reasonable assumption is that the index has increased linearly between the two measures.\n",
    "*Accordingly, the right index interpolation method seems to be *piecewise-affine* interpolation.\n",
    "This is very easily done using `eat`:"
   ]
  },
  {
   "cell_type": "markdown",
   "id": "f5736e10",
   "metadata": {},
   "source": [
    "Below an example of over and subsmpling :"
   ]
  },
  {
   "cell_type": "code",
   "execution_count": null,
   "id": "e16d4268",
   "metadata": {},
   "outputs": [],
   "source": [
    "sample_index.plot(label='original', legend=True)\n",
    "eat.timeseries.resample.to_freq(sample_index, freq=\"1min\").plot(label=\"1min\", legend=True, ls='--')\n",
    "eat.timeseries.resample.to_freq(sample_index, freq=\"30min\").plot(label=\"60min\", legend=True, marker='o')\n",
    "plt.title(\"Resampling of an energy index timeseries\");"
   ]
  },
  {
   "cell_type": "markdown",
   "metadata": {},
   "source": [
    "## Resampling temperature data"
   ]
  },
  {
   "cell_type": "markdown",
   "id": "1e2e08c9-d2f4-45bd-ba32-8231cb4a5a9f",
   "metadata": {},
   "source": [
    "However, conversely to energy-related data, as temperature is sampled as \"instantaneous values\", the resampling :\n",
    "- uses a piecewise affine interpolation method,\n",
    "- returns `NA` values outside the boundaries of the initial data."
   ]
  },
  {
   "cell_type": "markdown",
   "id": "abe92177-bbec-4a36-b8dc-e9fb03209029",
   "metadata": {},
   "source": [
    "### Example data"
   ]
  },
  {
   "cell_type": "markdown",
   "id": "9a83bb35-e0eb-47ac-852d-017a2b50b1c6",
   "metadata": {},
   "source": [
    "The temperature data below comes from indoor temperature measures located on the same site as the power used in the previous example, for an overlapping time-period."
   ]
  },
  {
   "cell_type": "code",
   "execution_count": null,
   "id": "84859033-7324-485b-99af-aea1d4117b03",
   "metadata": {
    "execution": {
     "iopub.execute_input": "2023-05-04T09:40:08.632272Z",
     "iopub.status.busy": "2023-05-04T09:40:08.630994Z",
     "iopub.status.idle": "2023-05-04T09:40:08.646711Z",
     "shell.execute_reply": "2023-05-04T09:40:08.645781Z",
     "shell.execute_reply.started": "2023-05-04T09:40:08.632241Z"
    },
    "tags": []
   },
   "outputs": [],
   "source": [
    "sample_temperature = pd.read_parquet('./data/sample_temperature_measures.parquet')[\"value\"]\n",
    "sample_temperature"
   ]
  },
  {
   "cell_type": "markdown",
   "id": "d47e42be-fd8a-4c6e-a57f-8f23805e56ef",
   "metadata": {},
   "source": [
    "### Simple over or sub-sampling"
   ]
  },
  {
   "cell_type": "markdown",
   "id": "b57b5a95-91ca-4be1-a64b-43168b0dd824",
   "metadata": {},
   "source": [
    "The following illustrates simple over-sampling and sub-sampling.\n",
    "Temperature may be interpolated/resampled in different ways depending on the needs and assumption."
   ]
  },
  {
   "cell_type": "markdown",
   "id": "1fd82eae",
   "metadata": {},
   "source": [
    "Oversampling might be done using a piecewise affine or piecewise constant method. In this example, given the resolution of the data, there is not much difference."
   ]
  },
  {
   "cell_type": "code",
   "execution_count": null,
   "id": "35a50bc9-a012-466c-b66c-8e8cbdd8b4f8",
   "metadata": {},
   "outputs": [],
   "source": [
    "eat.timeseries.resample.to_freq(sample_temperature, \"1min\", method='piecewise_affine').plot(\n",
    "    label='piecewise_affine', legend=True);\n",
    "eat.timeseries.resample.to_freq(sample_temperature, \"1min\", method='piecewise_constant').plot(\n",
    "    label='piecewise_constant', legend=True);"
   ]
  },
  {
   "cell_type": "markdown",
   "id": "c3d5e657",
   "metadata": {},
   "source": [
    "Subsamping can also be done the same way :"
   ]
  },
  {
   "cell_type": "code",
   "execution_count": null,
   "id": "258891bb",
   "metadata": {},
   "outputs": [],
   "source": [
    "sample_temperature.plot(label='original', legend=True)\n",
    "eat.timeseries.resample.to_freq(sample_temperature, \"60min\", method='piecewise_affine').plot(\n",
    "    label='piecewise_affine', legend=True)\n",
    "eat.timeseries.resample.to_freq(sample_temperature, \"60min\", method='piecewise_constant').plot(\n",
    "    label='piecewise_constant', legend=True);"
   ]
  },
  {
   "cell_type": "markdown",
   "id": "e780aa64",
   "metadata": {},
   "source": [
    "If one wish to compute a resampled mean temperature but the sampling rate of the original data is irregular, it is better to first oversample with a correct assumption then resample and compute the average.\n",
    "Below, using the [`eat` extension for `pandas` series](http://recherche.gitlab-pages.ecoco2.com/energy_toolbox/html/sources/energy_toolbox.pandas.html):"
   ]
  },
  {
   "cell_type": "code",
   "execution_count": null,
   "id": "1a6ca5bd",
   "metadata": {},
   "outputs": [],
   "source": [
    "sample_temperature.eat.to_freq(\"1min\", method='piecewise_affine').resample('60min').mean().plot();"
   ]
  }
 ],
 "metadata": {
  "kernelspec": {
   "display_name": "daily",
   "language": "python",
   "name": "python3"
  },
  "language_info": {
   "codemirror_mode": {
    "name": "ipython",
    "version": 3
   },
   "file_extension": ".py",
   "mimetype": "text/x-python",
   "name": "python",
   "nbconvert_exporter": "python",
   "pygments_lexer": "ipython3",
   "version": "3.11.5"
  }
 },
 "nbformat": 4,
 "nbformat_minor": 5
}
